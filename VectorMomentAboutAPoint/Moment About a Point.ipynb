{
 "cells": [
  {
   "cell_type": "markdown",
   "metadata": {},
   "source": [
    "# Example using numpy \n",
    "## Solving a problem in engineer mechanics: Moment About a Point\n",
    "\n",
    "### Moment of a Force About a Point (Scalar Calculations)\n",
    "The moment of a force is the tendency of some forces to cause rotation. Any easy way to visualize the concept is set a box on smooth surface. If you were to apply a force to the center of the box, it would simply slide across the surface without rotating. If you were instead to push on one side of the box it will start rotating as it moves. Even though the forces have the same magnitude and the same direction, they cause different reactions. This is because the off center force has a different point of application, and exerts a moment about the center of the box, whereas the force on the center of the box does not exert a moment about the boxes center point.\n",
    "\n",
    "<figure class=\"center\"> <img src=\"images/pushing_box.png\" width=\"500\" height=\"227\" alt=\"Pushing a box with an on center force and pushing a box with an off center force\">\n",
    "      <figcaption>If we push a box in the center it will simply begin sliding. If we push a box off-center, we will exert a moment and the box will rotate in addition to sliding.</figcaption>\n",
    "    </figure>\n",
    "\n",
    "## The Scalar Method in 2 Dimensions\n",
    "\n",
    "### Elements of a Moment\n",
    "The magnitude of the moment of a force acting about a point or axis is\n",
    "directly proportinoal to the distance of the force from the point or axis.\n",
    "It is defined as the product of the force and the moment arm. The\n",
    "<B>moment arm</B> or <B>lever arm</B> is the <u>perpendicular distance </u> between\n",
    "the line of action of the force and the center of moments. <br>\n",
    "#### Formula\n",
    "\n",
    "\n",
    "<center>$$ \\vec{M}=\\vec{r}\\times \\vec{F} $$</center><br>\n",
    "\n",
    "<p>Where:<br>\n",
    "<ul>\n",
    "<li> $\\vec{M}$: The vector of the moment of a force acting about a point</li>\n",
    "<li> $\\vec{F}$: The vector of force acting</li>\n",
    "<li> $\\vec{d}$: The vector perpendicular distance between the point and the force</li>    \n",
    "</ul>\n",
    "\n",
    "\n",
    "\n",
    "\n",
    "    \n"
   ]
  },
  {
   "cell_type": "markdown",
   "metadata": {},
   "source": [
    "#### Example Problem:\n",
    "What is the moment that this force exerts about point A? What is the moment this force exerts about point B?\n",
    "\n",
    "<figure class=\"center\"> <img src=\"images/P1.png\" width=\"500\" height=\"227\" alt=\"\">\n",
    "      <figcaption></figcaption>\n",
    "</figure>\n",
    "\n",
    "#### Solution\n",
    "<figure class=\"left\"> <img src=\"images/Solution.png\" width=\"500\" height=\"227\" alt=\"\">\n",
    "      <figcaption></figcaption>\n",
    "</figure>\n",
    "\n",
    "<B>Moment about Point A:</B>\n",
    "\n",
    "$\\vec{F} = [-80 cos(60), 80 sin(60), 0 ]$ <br><br>\n",
    "$\\vec{r}_a = [6/tan(30), 6, 0 ]$ <br><br>\n",
    "$\\vec{M}_a = \\vec{r}_a \\times \\vec{F} = [0, -0, 960] $ <br><br>\n"
   ]
  },
  {
   "cell_type": "code",
   "execution_count": 11,
   "metadata": {},
   "outputs": [
    {
     "name": "stdout",
     "output_type": "stream",
     "text": [
      "[  0.  -0. 960.]\n"
     ]
    }
   ],
   "source": [
    "# Python numeriacal solution\n",
    "import numpy as np\n",
    "import math\n",
    "\n",
    "F_vect = np.array([-80 * math.cos(math.radians(60)), 80 * math.sin(math.radians(60)), 0])\n",
    "\n",
    "r_vect = np.array([6 / math.tan(math.radians(30)), 6, 0])\n",
    "\n",
    "M_vect = np.cross(r_vect, F_vect)\n",
    "\n",
    "print(M_vect)"
   ]
  },
  {
   "cell_type": "markdown",
   "metadata": {},
   "source": [
    "<B>Moment about Point B:</B><br><br>\n",
    "$\\vec{F} = [-80 cos(60), 80 sin(60), 0 ]$ <br><br>\n",
    "$\\vec{r}_b = [6/tan(30), 0, 0 ]$ <br><br>\n",
    "$\\vec{M}_b = \\vec{r}_b \\times \\vec{F}  = [0, -0, 720]  $ <br><br>\n",
    "\n"
   ]
  },
  {
   "cell_type": "code",
   "execution_count": 12,
   "metadata": {},
   "outputs": [
    {
     "name": "stdout",
     "output_type": "stream",
     "text": [
      "[  0.  -0. 720.]\n"
     ]
    }
   ],
   "source": [
    "F_vect = np.array([-80 * math.cos(math.radians(60)), 80 * math.sin(math.radians(60)), 0])\n",
    "\n",
    "r_vect = np.array([6 / math.tan(math.radians(30)), 0, 0])\n",
    "\n",
    "M_vect = np.cross(r_vect, F_vect)\n",
    "\n",
    "print(M_vect)"
   ]
  }
 ],
 "metadata": {
  "kernelspec": {
   "display_name": "Python 3",
   "language": "python",
   "name": "python3"
  },
  "language_info": {
   "codemirror_mode": {
    "name": "ipython",
    "version": 3
   },
   "file_extension": ".py",
   "mimetype": "text/x-python",
   "name": "python",
   "nbconvert_exporter": "python",
   "pygments_lexer": "ipython3",
   "version": "3.7.7"
  }
 },
 "nbformat": 4,
 "nbformat_minor": 4
}
