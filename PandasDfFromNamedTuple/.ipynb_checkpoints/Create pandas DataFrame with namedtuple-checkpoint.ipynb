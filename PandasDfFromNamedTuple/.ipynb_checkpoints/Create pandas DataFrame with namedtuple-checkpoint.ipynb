{
 "cells": [
  {
   "cell_type": "markdown",
   "metadata": {},
   "source": [
    "# Create pandas DataFrame with namedtuple\n",
    "In this exercise, we construct a pandas dataframe using a list of namedtuples\n",
    "\n",
    "\n",
    "## Benefit\n",
    "\n",
    "- We don't need to worry about the number of columns or their names. It is cleaner way to create pandas dataframe this way\n"
   ]
  },
  {
   "cell_type": "code",
   "execution_count": 5,
   "metadata": {},
   "outputs": [],
   "source": [
    "import collections as collect\n",
    "import pandas as pd"
   ]
  },
  {
   "cell_type": "code",
   "execution_count": 6,
   "metadata": {},
   "outputs": [],
   "source": [
    "# Employee is namedtuple\n",
    "Employee = collect.namedtuple('Person', 'Name Age Gender ID')\n",
    "# Team is a list\n",
    "Team = []"
   ]
  },
  {
   "cell_type": "code",
   "execution_count": 7,
   "metadata": {},
   "outputs": [
    {
     "name": "stdout",
     "output_type": "stream",
     "text": [
      "[Person(Name='Bob', Age=30, Gender='male', ID=234), Person(Name='Jane', Age=29, Gender='female', ID=134), Person(Name='Tom', Age=35, Gender='male', ID=122)]\n"
     ]
    }
   ],
   "source": [
    "# Construct a list of namedtuples\n",
    "Team.append(Employee(Name='Bob', Age=30, Gender='male', ID=234))\n",
    "Team.append(Employee(Name='Jane', Age=29, Gender='female', ID=134))\n",
    "Team.append(Employee(Name='Tom', Age=35, Gender='male', ID=122))\n",
    "print(Team)"
   ]
  },
  {
   "cell_type": "code",
   "execution_count": 8,
   "metadata": {},
   "outputs": [
    {
     "name": "stdout",
     "output_type": "stream",
     "text": [
      "   Name  Age  Gender   ID\n",
      "0   Bob   30    male  234\n",
      "1  Jane   29  female  134\n",
      "2   Tom   35    male  122\n",
      "Name       Tom\n",
      "Age         35\n",
      "Gender    male\n",
      "ID         122\n",
      "Name: 2, dtype: object\n",
      "Tom\n",
      "122\n"
     ]
    }
   ],
   "source": [
    "# Create a pandas dataframe with the list of namedtuples\n",
    "df = pd.DataFrame(Team)\n",
    "print(df)\n",
    "# Print the 3rd row\n",
    "print(df.iloc[2])\n",
    "print(df.iloc[2]['Name'])\n",
    "print(df.iloc[2]['ID'])"
   ]
  }
 ],
 "metadata": {
  "kernelspec": {
   "display_name": "Python 3",
   "language": "python",
   "name": "python3"
  },
  "language_info": {
   "codemirror_mode": {
    "name": "ipython",
    "version": 3
   },
   "file_extension": ".py",
   "mimetype": "text/x-python",
   "name": "python",
   "nbconvert_exporter": "python",
   "pygments_lexer": "ipython3",
   "version": "3.7.7"
  }
 },
 "nbformat": 4,
 "nbformat_minor": 4
}
